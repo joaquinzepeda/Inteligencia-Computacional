{
 "cells": [
  {
   "cell_type": "markdown",
   "metadata": {},
   "source": [
    "## Importar librerías"
   ]
  },
  {
   "cell_type": "code",
   "execution_count": 1,
   "metadata": {},
   "outputs": [],
   "source": [
    "import numpy as np\n",
    "import pickle\n",
    "from sklearn.preprocessing import scale\n",
    "from sklearn.decomposition import PCA, KernelPCA\n",
    "from sklearn.cluster import KMeans\n",
    "%matplotlib inline\n",
    "import matplotlib.pylab as plt\n",
    "from minisom import MiniSom\n",
    "\n",
    "class KMedians(KMeans):\n",
    "    def _e_step(self, X):\n",
    "        self.labels_ = manhattan_distances(X, self.cluster_centers_).argmin(axis=1)\n",
    "    def _average(self, X):\n",
    "        return np.median(X, axis=0)"
   ]
  },
  {
   "cell_type": "markdown",
   "metadata": {},
   "source": [
    "## Importar dataset\n"
   ]
  },
  {
   "cell_type": "code",
   "execution_count": 2,
   "metadata": {
    "scrolled": true
   },
   "outputs": [
    {
     "name": "stdout",
     "output_type": "stream",
     "text": [
      "Nombres de paises y sus abreviaturas:\n",
      "[['abw' 'Aruba']\n",
      " ['afg' 'Afghanistan']\n",
      " ['ago' 'Angola']\n",
      " ['aia' 'Anguilla']\n",
      " ['alb' 'Albania']\n",
      " ['and' 'Andorra']\n",
      " ['are' 'United Arab Emirates']\n",
      " ['arg' 'Argentina']\n",
      " ['arm' 'Armenia']\n",
      " ['asm' 'American Samoa']\n",
      " ['atf' 'French Southern Territories']\n",
      " ['atg' 'Antigua and Barbuda']\n",
      " ['aus' 'Australia']\n",
      " ['aut' 'Austria']\n",
      " ['aze' 'Azerbaijan']\n",
      " ['bdi' 'Burundi']\n",
      " ['ben' 'Benin']\n",
      " ['bes' 'Caribbean Netherlands']\n",
      " ['bfa' 'Burkina Faso']\n",
      " ['bgd' 'Bangladesh']\n",
      " ['bgr' 'Bulgaria']\n",
      " ['bhr' 'Bahrain']\n",
      " ['bhs' 'Bahamas']\n",
      " ['bih' 'Bosnia and Herzegovina']\n",
      " ['blr' 'Belarus']\n",
      " ['blx' 'Belgium-Luxembourg']\n",
      " ['blz' 'Belize']\n",
      " ['bmu' 'Bermuda']\n",
      " ['bol' 'Bolivia, Plurinational State of']\n",
      " ['bra' 'Brazil']\n",
      " ['brb' 'Barbados']\n",
      " ['brn' 'Brunei Darussalam']\n",
      " ['btn' 'Bhutan']\n",
      " ['caf' 'Central African Republic']\n",
      " ['can' 'Canada']\n",
      " ['cck' 'Cocos (Keeling) Islands']\n",
      " ['che' 'Switzerland']\n",
      " ['chl' 'Chile']\n",
      " ['chn' 'China']\n",
      " ['civ' \"Côte d'Ivoire\"]\n",
      " ['cmr' 'Cameroon']\n",
      " ['cod' 'Congo, the Democratic Republic of the']\n",
      " ['cog' 'Congo']\n",
      " ['cok' 'Cook Islands']\n",
      " ['col' 'Colombia']\n",
      " ['com' 'Comoros']\n",
      " ['cpv' 'Cape Verde']\n",
      " ['cri' 'Costa Rica']\n",
      " ['cub' 'Cuba']\n",
      " ['cuw' 'Curacao']\n",
      " ['cxr' 'Christmas Island']\n",
      " ['cym' 'Cayman Islands']\n",
      " ['cyp' 'Cyprus']\n",
      " ['cze' 'Czech Republic']\n",
      " ['deu' 'Germany']\n",
      " ['dji' 'Djibouti']\n",
      " ['dma' 'Dominica']\n",
      " ['dnk' 'Denmark']\n",
      " ['dom' 'Dominican Republic']\n",
      " ['dza' 'Algeria']\n",
      " ['ecu' 'Ecuador']\n",
      " ['egy' 'Egypt']\n",
      " ['eri' 'Eritrea']\n",
      " ['esp' 'Spain']\n",
      " ['est' 'Estonia']\n",
      " ['eth' 'Ethiopia']\n",
      " ['fin' 'Finland']\n",
      " ['fji' 'Fiji']\n",
      " ['flk' 'Falkland Islands (Malvinas)']\n",
      " ['fra' 'France']\n",
      " ['fsm' 'Micronesia, Federated States of']\n",
      " ['gab' 'Gabon']\n",
      " ['gbr' 'United Kingdom']\n",
      " ['geo' 'Georgia']\n",
      " ['gha' 'Ghana']\n",
      " ['gib' 'Gibraltar']\n",
      " ['gin' 'Guinea']\n",
      " ['gmb' 'Gambia']\n",
      " ['gnb' 'Guinea-Bissau']\n",
      " ['gnq' 'Equatorial Guinea']\n",
      " ['grc' 'Greece']\n",
      " ['grd' 'Grenada']\n",
      " ['grl' 'Greenland']\n",
      " ['gtm' 'Guatemala']\n",
      " ['gum' 'Guam']\n",
      " ['guy' 'Guyana']\n",
      " ['hkg' 'Hong Kong']\n",
      " ['hnd' 'Honduras']\n",
      " ['hrv' 'Croatia']\n",
      " ['hti' 'Haiti']\n",
      " ['hun' 'Hungary']\n",
      " ['idn' 'Indonesia']\n",
      " ['ind' 'India']\n",
      " ['iot' 'British Indian Ocean Territory']\n",
      " ['irl' 'Ireland']\n",
      " ['irn' 'Iran, Islamic Republic of']\n",
      " ['irq' 'Iraq']\n",
      " ['isl' 'Iceland']\n",
      " ['isr' 'Israel']\n",
      " ['ita' 'Italy']\n",
      " ['jam' 'Jamaica']\n",
      " ['jor' 'Jordan']\n",
      " ['jpn' 'Japan']\n",
      " ['kaz' 'Kazakhstan']\n",
      " ['ken' 'Kenya']\n",
      " ['kgz' 'Kyrgyzstan']\n",
      " ['khm' 'Cambodia']\n",
      " ['kir' 'Kiribati']\n",
      " ['kna' 'Saint Kitts and Nevis']\n",
      " ['kor' 'Korea, Republic of']\n",
      " ['kwt' 'Kuwait']\n",
      " ['lao' \"Lao People's Democratic Republic\"]\n",
      " ['lbn' 'Lebanon']\n",
      " ['lbr' 'Liberia']\n",
      " ['lby' 'Libyan Arab Jamahiriya']\n",
      " ['lca' 'Saint Lucia']\n",
      " ['lka' 'Sri Lanka']\n",
      " ['ltu' 'Lithuania']\n",
      " ['lva' 'Latvia']\n",
      " ['mac' 'Macao']\n",
      " ['maf' 'Saint Martin (French part)']\n",
      " ['mar' 'Morocco']\n",
      " ['mda' 'Moldova, Republic of']\n",
      " ['mdg' 'Madagascar']\n",
      " ['mdv' 'Maldives']\n",
      " ['mex' 'Mexico']\n",
      " ['mhl' 'Marshall Islands']\n",
      " ['mkd' 'Macedonia, the former Yugoslav Republic of']\n",
      " ['mli' 'Mali']\n",
      " ['mlt' 'Malta']\n",
      " ['mmr' 'Myanmar']\n",
      " ['mne' 'Montenegro']\n",
      " ['mng' 'Mongolia']\n",
      " ['mnp' 'Northern Mariana Islands']\n",
      " ['moz' 'Mozambique']\n",
      " ['mrt' 'Mauritania']\n",
      " ['msr' 'Montserrat']\n",
      " ['mus' 'Mauritius']\n",
      " ['mwi' 'Malawi']\n",
      " ['mys' 'Malaysia']\n",
      " ['ncl' 'New Caledonia']\n",
      " ['ner' 'Niger']\n",
      " ['nfk' 'Norfolk Island']\n",
      " ['nga' 'Nigeria']\n",
      " ['nic' 'Nicaragua']\n",
      " ['niu' 'Niue']\n",
      " ['nld' 'Netherlands']\n",
      " ['nor' 'Norway']\n",
      " ['npl' 'Nepal']\n",
      " ['nru' 'Nauru']\n",
      " ['nzl' 'New Zealand']\n",
      " ['omn' 'Oman']\n",
      " ['pak' 'Pakistan']\n",
      " ['pan' 'Panama']\n",
      " ['pcn' 'Pitcairn']\n",
      " ['per' 'Peru']\n",
      " ['phl' 'Philippines']\n",
      " ['plw' 'Palau']\n",
      " ['png' 'Papua New Guinea']\n",
      " ['pol' 'Poland']\n",
      " ['prk' \"Korea, Democratic People's Republic of\"]\n",
      " ['prt' 'Portugal']\n",
      " ['pry' 'Paraguay']\n",
      " ['pse' 'Palestinian Territory, Occupied']\n",
      " ['pyf' 'French Polynesia']\n",
      " ['qat' 'Qatar']\n",
      " ['rou' 'Romania']\n",
      " ['rus' 'Russian Federation']\n",
      " ['rwa' 'Rwanda']\n",
      " ['sau' 'Saudi Arabia']\n",
      " ['sdn' 'Sudan']\n",
      " ['sen' 'Senegal']\n",
      " ['sgp' 'Singapore']\n",
      " ['shn' 'Saint Helena, Ascension and Tristan da Cunha']\n",
      " ['slb' 'Solomon Islands']\n",
      " ['sle' 'Sierra Leone']\n",
      " ['slv' 'El Salvador']\n",
      " ['smr' 'San Marino']\n",
      " ['som' 'Somalia']\n",
      " ['spm' 'Saint Pierre and Miquelon']\n",
      " ['srb' 'Serbia']\n",
      " ['ssd' 'South Sudan']\n",
      " ['stp' 'Sao Tome and Principe']\n",
      " ['sur' 'Suriname']\n",
      " ['svk' 'Slovakia']\n",
      " ['svn' 'Slovenia']\n",
      " ['swe' 'Sweden']\n",
      " ['syc' 'Seychelles']\n",
      " ['syr' 'Syrian Arab Republic']\n",
      " ['tca' 'Turks and Caicos Islands']\n",
      " ['tcd' 'Chad']\n",
      " ['tgo' 'Togo']\n",
      " ['tha' 'Thailand']\n",
      " ['tjk' 'Tajikistan']\n",
      " ['tkl' 'Tokelau']\n",
      " ['tkm' 'Turkmenistan']\n",
      " ['tls' 'Timor-Leste']\n",
      " ['ton' 'Tonga']\n",
      " ['tto' 'Trinidad and Tobago']\n",
      " ['tun' 'Tunisia']\n",
      " ['tur' 'Turkey']\n",
      " ['tuv' 'Tuvalu']\n",
      " ['tza' 'Tanzania, United Republic of']\n",
      " ['uga' 'Uganda']\n",
      " ['ukr' 'Ukraine']\n",
      " ['ury' 'Uruguay']\n",
      " ['usa' 'United States']\n",
      " ['uzb' 'Uzbekistan']\n",
      " ['vct' 'Saint Vincent and the Grenadines']\n",
      " ['vgb' 'Virgin Islands, British']\n",
      " ['vnm' 'Viet Nam']\n",
      " ['vut' 'Vanuatu']\n",
      " ['wlf' 'Wallis and Futuna']\n",
      " ['wsm' 'Samoa']\n",
      " ['xxb' 'Stateless']\n",
      " ['yem' 'Yemen']\n",
      " ['zaf' 'South Africa']\n",
      " ['zmb' 'Zambia']\n",
      " ['zwe' 'Zimbabwe']]\n"
     ]
    }
   ],
   "source": [
    "country_data = pickle.load(open(\"country_normalized_exports.pkl\", \"rb\"))\n",
    "country_data['feature_name'].insert(\n",
    "    76, '(Reserved for possible future use in the Harmonized System.)')\n",
    "world_data = country_data['world_data']\n",
    "world_labels = country_data['world_labels']\n",
    "world_labels_short = country_data['world_labels_short']\n",
    "feature_names = country_data['feature_name']\n",
    "N, M = world_data.shape\n",
    "print(\"Nombres de paises y sus abreviaturas:\")\n",
    "I = np.argsort(world_labels_short)\n",
    "print(np.concatenate((np.asarray(world_labels_short)[I, np.newaxis], \n",
    "                      np.asarray(world_labels)[I, np.newaxis]), axis=1))"
   ]
  },
  {
   "cell_type": "markdown",
   "metadata": {},
   "source": [
    "## Agrupar exportaciones"
   ]
  },
  {
   "cell_type": "code",
   "execution_count": 3,
   "metadata": {},
   "outputs": [],
   "source": [
    "grouped_data = np.zeros((len(world_data), 15))\n",
    "indexes = [0, 5, 15, 24, 27, 38, 40, 43, 49, 63, 67, 71, 83, 85, 89, 97]\n",
    "for i in range(15):\n",
    "    start = indexes[i]\n",
    "    end = indexes[i+1]\n",
    "    grouped_data[:, i] = world_data[:, start:end].sum(axis=1)\n",
    "grouped_feature_names = [\n",
    "    'Animal & Animal Products',\n",
    "    'Vegetable Products',\n",
    "    'Foodstuffs',\n",
    "    'Mineral Products',\n",
    "    'Chemicals & Allied Industries',\n",
    "    'Plastics / Rubbers',\n",
    "    'Raw Hides, Skins, Leather & Furs',\n",
    "    'Wood & Wood Products',\n",
    "    'Textiles',\n",
    "    'Footwear / Headgear',\n",
    "    'Stone / Glass',\n",
    "    'Metals',\n",
    "    'Machinery / Electrical',\n",
    "    'Transportation',\n",
    "    'Miscellaneous'\n",
    "]"
   ]
  },
  {
   "cell_type": "markdown",
   "metadata": {},
   "source": [
    "## Seleccionar subconjunto de paises para etiquetas"
   ]
  },
  {
   "cell_type": "code",
   "execution_count": 4,
   "metadata": {},
   "outputs": [],
   "source": [
    "countries_subset = ['are','arg','aus','aut','bgd',\n",
    "    'bgr','bhr','blr','blx','bol','bra','caf','can',\n",
    "    'chl','chn','civ','cmr','cod','cog','col','cub',\n",
    "    'deu','dnk','ecu','egy','esp','fin','fra','gbr',\n",
    "    'geo','gha','grc','hkg','hti','idn','ind','irl',\n",
    "    'irn','irq','isr','ita','jpn','kwt','mex','nld',\n",
    "    'nor','pak','per','pol','prk','prt','pry','pse',\n",
    "    'qat','rus','sau','sgp','ury','usa','yem','zaf',\n",
    "    'kaz','kor','idn','isl','sen','uzb','sur','flk',\n",
    "    'grl','tun','cri','kna','eth','afg','uga'\n",
    "]"
   ]
  },
  {
   "cell_type": "markdown",
   "metadata": {},
   "source": [
    "## Activar/Desactivar agrupación de productos\n",
    "\n",
    "Cambie el valor de la variable booleana is_grouped"
   ]
  },
  {
   "cell_type": "code",
   "execution_count": 5,
   "metadata": {},
   "outputs": [],
   "source": [
    "is_grouped = True\n",
    "if is_grouped:\n",
    "    selected_data = grouped_data\n",
    "    selected_features = grouped_feature_names\n",
    "else:\n",
    "    selected_data = world_data\n",
    "    selected_features = feature_names\n",
    "# Normalizar datos\n",
    "world_data_scaled = scale(selected_data, axis=0, with_mean=True, with_std=True)"
   ]
  },
  {
   "cell_type": "markdown",
   "metadata": {},
   "source": [
    "## Clustering usando kmedians\n",
    "\n",
    "El parámetro n_clusters modifica el número de clusters"
   ]
  },
  {
   "cell_type": "code",
   "execution_count": 6,
   "metadata": {},
   "outputs": [
    {
     "name": "stdout",
     "output_type": "stream",
     "text": [
      "Suma de errores cuadráticos: 1922.552903\n"
     ]
    }
   ],
   "source": [
    "clustering = KMedians(n_clusters=7)\n",
    "pred_labels = clustering.fit_predict(world_data_scaled)\n",
    "print(\"Suma de errores cuadráticos: %f\" %(clustering.inertia_))"
   ]
  },
  {
   "cell_type": "markdown",
   "metadata": {},
   "source": [
    "## Visualización con PCA"
   ]
  },
  {
   "cell_type": "code",
   "execution_count": 7,
   "metadata": {
    "scrolled": false
   },
   "outputs": [
    {
     "name": "stdout",
     "output_type": "stream",
     "text": [
      "Varianza explicada por los primeros componentes principales:\n",
      "[0.15481744 0.10809297]\n",
      "Suma acumulada de los primeros componentes principales: 0.262910\n"
     ]
    },
    {
     "data": {
      "image/png": "[encoded data removed]",
      "text/plain": [
       "<Figure size 864x720 with 1 Axes>"
      ]
     },
     "metadata": {
      "needs_background": "light"
     },
     "output_type": "display_data"
    }
   ],
   "source": [
    "pca = PCA(n_components=2)\n",
    "pca_no_kernel_projection = pca.fit_transform(world_data_scaled)\n",
    "world_data_projected = pca_no_kernel_projection\n",
    "print(\"Varianza explicada por los primeros componentes principales:\")\n",
    "print(pca.explained_variance_ratio_)\n",
    "print(\"Suma acumulada de los primeros componentes principales: %f\" % np.sum(pca.explained_variance_ratio_))\n",
    "fig = plt.figure(figsize=(12, 10))\n",
    "ax = fig.add_subplot(1, 1, 1)\n",
    "ax.scatter(world_data_projected[:, 0], world_data_projected[:, 1], \n",
    "           c=pred_labels/clustering.n_clusters, linewidth=0, alpha=0.5, s=150, cmap='Set1')\n",
    "plt.title('PCA con los datos agrupados en agruparlos en 15 categor´ıas')\n",
    "xscale = world_data_projected[:, 0].max() - world_data_projected[:, 0].min()\n",
    "yscale = world_data_projected[:, 1].max() - world_data_projected[:, 1].min()\n",
    "for i in range(N):\n",
    "    if world_labels_short[i] in countries_subset:\n",
    "        if world_labels_short[i] == \"chl\":\n",
    "            ax.annotate(world_labels_short[i], \n",
    "                        xy=(world_data_projected[i, 0]+0.01*xscale, world_data_projected[i, 1]+0.01*yscale), fontsize=12, color='r',\n",
    "                       bbox={'facecolor':'white', 'alpha':0.6, 'pad':2})\n",
    "        else:\n",
    "            ax.annotate(world_labels_short[i], \n",
    "                        xy=(world_data_projected[i, 0]+0.01*xscale, world_data_projected[i, 1]+0.01*yscale), fontsize=10,\n",
    "                       bbox={'facecolor':'white', 'alpha':0.6, 'pad':2})\n",
    "plt.grid()"
   ]
  },
  {
   "cell_type": "markdown",
   "metadata": {},
   "source": [
    "## Visualización con KernelPCA"
   ]
  },
  {
   "cell_type": "code",
   "execution_count": null,
   "metadata": {
    "scrolled": false
   },
   "outputs": [],
   "source": [
    "pca = KernelPCA(n_components=2, kernel=\"rbf\")\n",
    "pca_kernel_projection = pca.fit_transform(world_data_scaled) \n",
    "world_data_projected = pca_kernel_projection\n",
    "fig = plt.figure(figsize=(12, 10))\n",
    "ax = fig.add_subplot(1, 1, 1)\n",
    "ax.scatter(world_data_projected[:, 0], world_data_projected[:, 1], \n",
    "           c=pred_labels/clustering.n_clusters, linewidth=0, alpha=0.5, s=150, cmap='Set1')\n",
    "xscale = world_data_projected[:, 0].max() - world_data_projected[:, 0].min()\n",
    "yscale = world_data_projected[:, 1].max() - world_data_projected[:, 1].min()\n",
    "for i in range(N):\n",
    "    if world_labels_short[i] in countries_subset:\n",
    "        if world_labels_short[i] == \"chl\":\n",
    "            ax.annotate(world_labels_short[i], \n",
    "                        xy=(world_data_projected[i, 0]+0.01*xscale, world_data_projected[i, 1]+0.01*yscale), fontsize=12, color='r',\n",
    "                       bbox={'facecolor':'white', 'alpha':0.6, 'pad':2})\n",
    "        else:\n",
    "            ax.annotate(world_labels_short[i], \n",
    "                        xy=(world_data_projected[i, 0]+0.01*xscale, world_data_projected[i, 1]+0.01*yscale), fontsize=10,\n",
    "                       bbox={'facecolor':'white', 'alpha':0.6, 'pad':2})\n",
    "plt.grid()"
   ]
  },
  {
   "cell_type": "markdown",
   "metadata": {},
   "source": [
    "## Visualización SOM sobre PCA"
   ]
  },
  {
   "cell_type": "code",
   "execution_count": null,
   "metadata": {},
   "outputs": [],
   "source": [
    "som_data = pca_no_kernel_projection # Componentes principales de PCA sin kernel\n",
    "som_size = [30, 25]\n",
    "sm = MiniSom(som_size[0], som_size[1], som_data.shape[1], \n",
    "             sigma=np.amax(som_size)/4, sigma_final=np.amax(som_size)/10,\n",
    "             learning_rate=1.5, learning_rate_final=0.5)\n",
    "print(\"Error de cuantización (inicial): %f\" %(sm.quantization_error(som_data)))\n",
    "# Ajuste grueso\n",
    "sm.train_random(som_data, 2000)\n",
    "print(\"Error de cuantización (ajuste grueso): %f\" %(sm.quantization_error(som_data)))\n",
    "# Ajuste fino\n",
    "sm.sigma = np.amax(som_size)/10\n",
    "sm.sigma_final = 1.5\n",
    "sm.learning_rate = 0.5\n",
    "sm.learning_rate_final = 0.1\n",
    "sm.train_random(som_data, 2000)\n",
    "print(\"Error de cuantización (ajuste fino): %f\" %(sm.quantization_error(som_data)))"
   ]
  },
  {
   "cell_type": "code",
   "execution_count": null,
   "metadata": {
    "scrolled": false
   },
   "outputs": [],
   "source": [
    "# U-Matrix\n",
    "umat = sm.distance_map()\n",
    "fig = plt.figure(figsize=(12, 8)) \n",
    "ax = fig.add_subplot(1, 1, 1)\n",
    "cf = ax.contourf(umat.T, cmap=plt.cm.Spectral_r)\n",
    "plt.colorbar(cf, label='Distancia normalizada')\n",
    "plt.title('U-Matrix')\n",
    "ax.axis('off')\n",
    "for i in range(N):\n",
    "    bmu = sm.winner(som_data[i, :])\n",
    "    ax.scatter(bmu[0], bmu[1], s=2, c='k')\n",
    "    if world_labels_short[i] in countries_subset:\n",
    "        if world_labels_short[i] == \"chl\":\n",
    "            ax.annotate(world_labels_short[i], xy=(bmu[0]+0.5, bmu[1]),\n",
    "                   bbox={'facecolor':'red', 'alpha':0.6, 'pad':2})\n",
    "        else:\n",
    "            ax.annotate(world_labels_short[i], xy=(bmu[0]+0.5, bmu[1]),\n",
    "                       bbox={'facecolor':'white', 'alpha':0.6, 'pad':2})"
   ]
  },
  {
   "cell_type": "markdown",
   "metadata": {},
   "source": [
    "## Visualización SOM sobre Kernel PCA"
   ]
  },
  {
   "cell_type": "code",
   "execution_count": null,
   "metadata": {},
   "outputs": [],
   "source": [
    "som_kdata = pca_kernel_projection # Componentes principales de PCA sin kernel\n",
    "som_ksize = [30, 25]\n",
    "ksm = MiniSom(som_ksize[0], som_ksize[1], som_kdata.shape[1], \n",
    "             sigma=np.amax(som_ksize)/4, sigma_final=np.amax(som_ksize)/10,\n",
    "             learning_rate=1.5, learning_rate_final=0.5)\n",
    "print(\"Error de cuantización (inicial): %f\" %(ksm.quantization_error(som_kdata)))\n",
    "# Ajuste grueso\n",
    "ksm.train_random(som_kdata, 2000)\n",
    "print(\"Error de cuantización (ajuste grueso): %f\" %(ksm.quantization_error(som_kdata)))\n",
    "# Ajuste fino\n",
    "ksm.sigma = np.amax(som_ksize)/10\n",
    "ksm.sigma_final = 1.5\n",
    "ksm.learning_rate = 0.5\n",
    "ksm.learning_rate_final = 0.1\n",
    "ksm.train_random(som_kdata, 2000)\n",
    "print(\"Error de cuantización (ajuste fino): %f\" %(ksm.quantization_error(som_kdata)))"
   ]
  },
  {
   "cell_type": "code",
   "execution_count": null,
   "metadata": {},
   "outputs": [],
   "source": [
    "# U-Matrix\n",
    "umat = ksm.distance_map()\n",
    "fig = plt.figure(figsize=(12, 8)) \n",
    "ax = fig.add_subplot(1, 1, 1)\n",
    "cf = ax.contourf(umat.T, cmap=plt.cm.Spectral_r)\n",
    "plt.colorbar(cf, label='Distancia normalizada')\n",
    "plt.title('U-Matrix')\n",
    "ax.axis('off')\n",
    "for i in range(N):\n",
    "    bmu = ksm.winner(som_kdata[i, :])\n",
    "    ax.scatter(bmu[0], bmu[1], s=2, c='k')\n",
    "    if world_labels_short[i] in countries_subset:\n",
    "        if world_labels_short[i] == \"chl\":\n",
    "            ax.annotate(world_labels_short[i], xy=(bmu[0]+0.5, bmu[1]),\n",
    "                   bbox={'facecolor':'red', 'alpha':0.6, 'pad':2})\n",
    "        else:\n",
    "            ax.annotate(world_labels_short[i], xy=(bmu[0]+0.5, bmu[1]),\n",
    "                       bbox={'facecolor':'white', 'alpha':0.6, 'pad':2})"
   ]
  },
  {
   "cell_type": "code",
   "execution_count": null,
   "metadata": {},
   "outputs": [],
   "source": []
  }
 ],
 "metadata": {
  "kernelspec": {
   "display_name": "Python 3 (ipykernel)",
   "language": "python",
   "name": "python3"
  },
  "language_info": {
   "codemirror_mode": {
    "name": "ipython",
    "version": 3
   },
   "file_extension": ".py",
   "mimetype": "text/x-python",
   "name": "python",
   "nbconvert_exporter": "python",
   "pygments_lexer": "ipython3",
   "version": "3.7.11"
  }
 },
 "nbformat": 4,
 "nbformat_minor": 1
}
