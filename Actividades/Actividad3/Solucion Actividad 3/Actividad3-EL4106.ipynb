{
 "cells": [
  {
   "cell_type": "markdown",
   "id": "3ce8a9eb",
   "metadata": {},
   "source": [
    "# Actividad 3 EL4106 por Joaquin Zepeda"
   ]
  },
  {
   "cell_type": "code",
   "execution_count": 37,
   "id": "bac5a093",
   "metadata": {},
   "outputs": [],
   "source": [
    "import numpy as np\n",
    "import matplotlib.pyplot as plt\n",
    "import random\n",
    "\n",
    "#Generamos el conjunto de datos con 100 muestras cada 1\n",
    "# media y desvio estandar\n",
    "mu1, sigma1 = -1, 1\n",
    "datos1 = np.random.normal(mu1, sigma1, 100) #creando muestra de datos <class 'numpy.ndarray'> (100,)\n",
    "\n",
    "mu2, sigma2 = 1, 1\n",
    "datos2 = np.random.normal(mu2, sigma2, 100) #creando muestra de datos <class 'numpy.ndarray'> (100,)"
   ]
  },
  {
   "cell_type": "code",
   "execution_count": 36,
   "id": "260a4b28",
   "metadata": {},
   "outputs": [],
   "source": [
    "datos=[]\n",
    "for dato in datos1:\n",
    "    datos.append((dato,0))\n",
    "\n",
    "for dato in datos2:\n",
    "    datos.append((dato,1))\n",
    "\n",
    "random.shuffle(datos)\n",
    "#print(datos)"
   ]
  },
  {
   "cell_type": "code",
   "execution_count": 39,
   "id": "6b176426",
   "metadata": {},
   "outputs": [
    {
     "data": {
      "image/png": "[encoded data removed]",
      "text/plain": [
       "<Figure size 432x288 with 1 Axes>"
      ]
     },
     "metadata": {
      "needs_background": "light"
     },
     "output_type": "display_data"
    }
   ],
   "source": [
    "count, bins, ignored = plt.hist(datos1, 30, density=True)\n",
    "plt.plot(bins, 1/(sigma1 * np.sqrt(2 * np.pi)) *\n",
    "               np.exp( - (bins - mu1)**2 / (2 * sigma1**2) ),\n",
    "         linewidth=2, color='cyan')\n",
    "count, bins, ignored = plt.hist(datos2, 30, density=True)\n",
    "plt.plot(bins, 1/(sigma2 * np.sqrt(2 * np.pi)) *\n",
    "               np.exp( - (bins - mu2)**2 / (2 * sigma2**2) ),\n",
    "         linewidth=2, color='r')\n",
    "plt.show()\n"
   ]
  },
  {
   "cell_type": "code",
   "execution_count": 40,
   "id": "1d04dd18",
   "metadata": {},
   "outputs": [],
   "source": [
    "def salida(s):\n",
    "    #print(\"valor de s\",s)\n",
    "    y = 1/(1+np.exp(s))\n",
    "    return y\n",
    "def entropia_cruzada(t,y):\n",
    "    return -t*np.ln(y)-(1-t)*np.ln(1-y)"
   ]
  },
  {
   "cell_type": "code",
   "execution_count": 41,
   "id": "6fec4526",
   "metadata": {},
   "outputs": [],
   "source": [
    "\n",
    "b0 = 0.4 #b al comienzo es igual a 0.4\n",
    "w0=-0.1 #w al comienzo es igual a -0.1\n",
    "def regla_aprendizaje(datos, learning_rate, n_iteraciones=1):  \n",
    "    global b0,w0\n",
    "    b0 = 0.4 #b al comienzo es igual a 0.4\n",
    "    w0=-0.1 #w al comienzo es igual a -0.1\n",
    "    #t=target\n",
    "    suma_w0=0\n",
    "    suma_b0=0\n",
    "    n=0\n",
    "    while n_iteraciones>0:\n",
    "        for x,t in datos:\n",
    "            #print(x,t)\n",
    "            argumento= -(w0*x+b0)\n",
    "            #print(\"argumento n°\"+str(n_iteraciones),argumento)\n",
    "            y=salida(argumento)\n",
    "            if y==1:\n",
    "                print(\"error, division por cero\")\n",
    "            #print(\"y\",y)\n",
    "            suma_w0+=learning_rate*(-t*y*np.exp(argumento)*x + (1-t)*y**2*np.exp(argumento)*x/(1-y))\n",
    "            suma_b0+=learning_rate*(-t*y*np.exp(argumento) + (1-t)*y**2*np.exp(argumento)/(1-y))\n",
    "        promedio_w0 = suma_w0/len(datos)\n",
    "        promedio_b0 = suma_b0/len(datos)\n",
    "\n",
    "        w0 = w0 - promedio_w0\n",
    "        b0 = b0 - promedio_b0\n",
    "        if n%20==0:\n",
    "            print(f\"iteración N°{n} de w0, b0\",w0,b0)\n",
    "        n_iteraciones-=1\n",
    "        n+=1\n",
    "\n",
    "    return w0,b0"
   ]
  },
  {
   "cell_type": "code",
   "execution_count": 42,
   "id": "ec5ec0ab",
   "metadata": {},
   "outputs": [
    {
     "name": "stdout",
     "output_type": "stream",
     "text": [
      "iteración N°0 de w0, b0 -0.09433571313517562 0.3989980800122853\n",
      "iteración N°20 de w0, b0 0.9854142893089043 0.2009462705837726\n",
      "iteración N°40 de w0, b0 2.769055670953061 -0.100098051876106\n",
      "iteración N°60 de w0, b0 4.477281421176315 -0.287497509535055\n",
      "iteración N°80 de w0, b0 5.9667685848780065 -0.32022701848797636\n",
      "Despues del entrenamineto, los valores obtenidos de w0,b0 son respectivamente:  7.1431114426859645 -0.2183810797722588 \n",
      "\n"
     ]
    }
   ],
   "source": [
    "#obtenemos los valores de los pesos y el bias arreglados por el algoritmo\n",
    "w1,b1 = regla_aprendizaje(datos,0.01,100)\n",
    "print(\"Despues del entrenamineto, los valores obtenidos de w0,b0 son respectivamente: \",w0,b0,\"\\n\")"
   ]
  },
  {
   "cell_type": "code",
   "execution_count": 43,
   "id": "03c4974b",
   "metadata": {},
   "outputs": [
    {
     "name": "stdout",
     "output_type": "stream",
     "text": [
      "procedo a hacer una revisión de los datos obtenidos (ojo que es posible encontrar errores y/o outlayers)\n",
      "Prueba N°0 dato,target 2.1732131778372983 1\n",
      "resultado 0.9999997745399969\n",
      "Prueba N°1 dato,target -1.508510174096251 0\n",
      "resultado 1.6804662663444968e-05\n",
      "Prueba N°2 dato,target 0.4194861741791588 1\n",
      "resultado 0.9414783957130924\n",
      "Prueba N°3 dato,target 1.0212012987962078 1\n",
      "resultado 0.9991557131457509\n",
      "Prueba N°4 dato,target -0.7956541316513459 0\n",
      "resultado 0.0027269870497119274\n"
     ]
    }
   ],
   "source": [
    "print(\"procedo a hacer una revisión de los datos obtenidos (ojo que es posible encontrar errores y/o outlayers)\")\n",
    "for i in range(5):\n",
    "    x,t=datos[i]\n",
    "    print(f\"Prueba N°{i} dato,target\",x,t)\n",
    "    argumento= -(w0*x+b0)\n",
    "    #print(\"argumento n°\"+str(n_iteraciones),argumento)\n",
    "    y=salida(argumento)\n",
    "    print(\"resultado\",y)"
   ]
  },
  {
   "cell_type": "code",
   "execution_count": 46,
   "id": "2fd93aa9",
   "metadata": {},
   "outputs": [
    {
     "data": {
      "image/png": "[encoded data removed]",
      "text/plain": [
       "<Figure size 432x288 with 1 Axes>"
      ]
     },
     "metadata": {
      "needs_background": "light"
     },
     "output_type": "display_data"
    }
   ],
   "source": [
    "base = np.linspace(-5,5,1000)\n",
    "y = salida(-(w0*base+b0))\n",
    "plt.title(\"Prueba de la función entrenada\")\n",
    "plt.xlabel(\"input\")\n",
    "plt.ylabel(\"output\")\n",
    "plt.plot(base,y)\n",
    "plt.show()"
   ]
  },
  {
   "cell_type": "code",
   "execution_count": null,
   "id": "4b0cf871",
   "metadata": {},
   "outputs": [],
   "source": []
  }
 ],
 "metadata": {
  "kernelspec": {
   "display_name": "Python 3 (ipykernel)",
   "language": "python",
   "name": "python3"
  },
  "language_info": {
   "codemirror_mode": {
    "name": "ipython",
    "version": 3
   },
   "file_extension": ".py",
   "mimetype": "text/x-python",
   "name": "python",
   "nbconvert_exporter": "python",
   "pygments_lexer": "ipython3",
   "version": "3.7.11"
  }
 },
 "nbformat": 4,
 "nbformat_minor": 5
}
